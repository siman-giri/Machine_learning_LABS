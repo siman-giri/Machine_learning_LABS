{
  "nbformat": 4,
  "nbformat_minor": 0,
  "metadata": {
    "colab": {
      "name": "Feature_Selection_Final.ipynb",
      "provenance": [],
      "include_colab_link": true
    },
    "kernelspec": {
      "name": "python3",
      "display_name": "Python 3"
    },
    "accelerator": "GPU"
  },
  "cells": [
    {
      "cell_type": "markdown",
      "metadata": {
        "id": "view-in-github",
        "colab_type": "text"
      },
      "source": [
        "<a href=\"https://colab.research.google.com/github/siman-giri/Machine_learning_LABS/blob/master/Feature_Selection_Final.ipynb\" target=\"_parent\"><img src=\"https://colab.research.google.com/assets/colab-badge.svg\" alt=\"Open In Colab\"/></a>"
      ]
    },
    {
      "cell_type": "code",
      "metadata": {
        "id": "U2iHahIU8XCE",
        "colab_type": "code",
        "colab": {}
      },
      "source": [
        "import pandas as pd\n",
        "import numpy as np\n",
        "from __future__ import division\n",
        "\n",
        "np.warnings.filterwarnings('ignore')\n",
        "\n",
        "\n",
        "file_feature = 'arcene_train.data'\n",
        "file_label = 'arcene_train.labels'\n",
        "feature = pd.read_csv(file_feature, delim_whitespace=True)\n",
        "label = pd.read_csv(file_label, delim_whitespace=True)"
      ],
      "execution_count": 0,
      "outputs": []
    },
    {
      "cell_type": "code",
      "metadata": {
        "id": "ycJ77F568lVY",
        "colab_type": "code",
        "colab": {}
      },
      "source": [
        "\n",
        "#remove any NAN values from Feature\n",
        "feature = feature.dropna(how='any', axis=1)\n",
        "#print(feature.shape)\n",
        "# remove redundant_values(unique values_features appearing only one time)\n",
        "for col in feature.columns:\n",
        "    if len(feature[col].unique()) == 1:\n",
        "        feature.drop(col, inplace=True, axis=1)"
      ],
      "execution_count": 0,
      "outputs": []
    },
    {
      "cell_type": "code",
      "metadata": {
        "id": "ff8xnHs48rt3",
        "colab_type": "code",
        "colab": {}
      },
      "source": [
        "feature = np.array(feature)\n",
        "label = np.array(label)\n",
        "#print(label)"
      ],
      "execution_count": 0,
      "outputs": []
    },
    {
      "cell_type": "code",
      "metadata": {
        "id": "HNN0Sedk9GW6",
        "colab_type": "code",
        "outputId": "895eb2e8-98f3-4d95-8671-c59440f2bdfd",
        "colab": {
          "base_uri": "https://localhost:8080/",
          "height": 105
        }
      },
      "source": [
        "header = {'filter_method': ['Wrapper_Filter(SFF)', 'Embedded_Filter(Lasso)',\n",
        "                            'Filter(corelation)' , 'Filter(FRation)' , ]}\n",
        "final_matrix = {5: [np.nan, np.nan, np.nan, np.nan ],\n",
        "                20: [np.nan, np.nan, np.nan, np.nan],\n",
        "                50: [np.nan, np.nan , np.nan, np.nan]}\n",
        "\n",
        "final_matrix = pd.DataFrame(data=final_matrix, index=header['filter_method'])\n",
        "print(final_matrix.head())"
      ],
      "execution_count": 0,
      "outputs": [
        {
          "output_type": "stream",
          "text": [
            "                        5   20  50\n",
            "Wrapper_Filter(SFF)    NaN NaN NaN\n",
            "Embedded_Filter(Lasso) NaN NaN NaN\n",
            "Filter(corelation)     NaN NaN NaN\n",
            "Filter(FRation)        NaN NaN NaN\n"
          ],
          "name": "stdout"
        }
      ]
    },
    {
      "cell_type": "code",
      "metadata": {
        "id": "eRtwF1hs8uf3",
        "colab_type": "code",
        "colab": {}
      },
      "source": [
        "class seqfeedforward:\n",
        "    def __init__(self, n = 10):\n",
        "        self.n  = n\n",
        "        self.selected_feature = []\n",
        "        self.accuracy = []\n",
        "\n",
        "    def __fit_model__(self, feature, target):\n",
        "        from sklearn.linear_model import LogisticRegression\n",
        "        from sklearn.metrics import accuracy_score\n",
        "        self.model = LogisticRegression()\n",
        "        #self.accuracy_score = accuracy_score(pred, actual)\n",
        "        self.model.fit(feature, target)\n",
        "        predicted = self.model.predict(feature)\n",
        "        accuracy = accuracy_score(predicted,target)\n",
        "        return accuracy\n",
        "    \n",
        "    def fit_sfs(self, feature, target):\n",
        "        import numpy as np\n",
        "        number_selected_feature = 0\n",
        "        data_selected_feature = []\n",
        "        best_accuracy = 0\n",
        "\n",
        "        for i, data in enumerate(feature.T):\n",
        "            temp_feature_set = [col for col in data_selected_feature]\n",
        "            temp_feature_set.append(data)\n",
        "            current_accuracy = self.__fit_model__(np.array(temp_feature_set).T, target)\n",
        "            self.accuracy.append(current_accuracy)\n",
        "            if current_accuracy > best_accuracy:\n",
        "                number_selected_feature += 1\n",
        "                best_accuracy = current_accuracy\n",
        "                data_selected_feature = temp_feature_set\n",
        "                self.selected_feature.append(i)\n",
        "                if number_selected_feature >= self.n:\n",
        "                    break\n",
        "\n",
        "    def sel_index(self, feature):\n",
        "        import numpy as np\n",
        "        return feature[:, (np.array(self.selected_feature))]\n",
        "\n",
        "\n",
        "\n",
        "\n",
        "\n",
        "\n",
        "\n",
        "\n"
      ],
      "execution_count": 0,
      "outputs": []
    },
    {
      "cell_type": "code",
      "metadata": {
        "id": "ChiJptPy9vdA",
        "colab_type": "code",
        "outputId": "400d974d-b0df-4180-d049-d9570bc4877e",
        "colab": {
          "base_uri": "https://localhost:8080/",
          "height": 105
        }
      },
      "source": [
        "N = [5, 20, 50]\n",
        "from sklearn.linear_model import LogisticRegression\n",
        "from sklearn.metrics import accuracy_score\n",
        "for n in N:\n",
        "    filt_wrapper = seqfeedforward(n = n)\n",
        "    selected_index = filt_wrapper.fit_sfs(feature, label)\n",
        "    new_feature = filt_wrapper.sel_index(feature)\n",
        "    logistic_regression = LogisticRegression()\n",
        "    logistic_regression.fit(new_feature, label)\n",
        "    prediction = logistic_regression.predict(new_feature)\n",
        "    accuracy = '{}%'.format(np.round(accuracy_score(label, prediction) * 100 , 2))\n",
        "    final_matrix.loc['Wrapper_Filter(SFF)', n] = accuracy\n",
        "\n",
        "print(final_matrix)"
      ],
      "execution_count": 0,
      "outputs": [
        {
          "output_type": "stream",
          "text": [
            "                            5       20      50\n",
            "Wrapper_Filter(SFF)     76.77%  93.94%  100.0%\n",
            "Embedded_Filter(Lasso)     NaN     NaN     NaN\n",
            "Filter(corelation)         NaN     NaN     NaN\n",
            "Filter(FRation)            NaN     NaN     NaN\n"
          ],
          "name": "stdout"
        }
      ]
    },
    {
      "cell_type": "code",
      "metadata": {
        "id": "p3bld4OLAIS8",
        "colab_type": "code",
        "colab": {}
      },
      "source": [
        "class Embedded_Method:\n",
        "    def __init__(self):\n",
        "        import numpy as np\n",
        "        self.n_iterattions = 1000\n",
        "        self.l_r = 0.0001\n",
        "        self.alpha  = 1e-12   # regularization parameter\n",
        "        self.weights = []\n",
        "        self.loss_history = []\n",
        "        self.loss_function = lambda X,Y,W : np.sum(np.square(X.dot(W)-Y)/(2.0*len(Y)))\n",
        "    def sigmoid_activation(self, x):\n",
        "        import numpy as np\n",
        "        return 1/(1+ np.exp(-x))\n",
        "    def __fit__(self, feature, target):\n",
        "        import numpy as np\n",
        "        self.W = np.zeros(len(feature[0]))\n",
        "        for i in range(self.n_iterattions):\n",
        "            h = self.sigmoid_activation(feature.dot(self.W))\n",
        "            loss = (-target * np.log(h) - (1 - target) * np.log(1 - h)).mean()\n",
        "            gradient = np.dot(feature.T, (h - target)) / target.shape[0]\n",
        "            self.W = self.W - self.l_r * gradient - self.alpha * np.sign(self.W)\n",
        "            self.W[self.W < 1e-15] = 0\n",
        "            cost = self.loss_function(feature, target, self.W)\n",
        "            if i % 10 == 0:\n",
        "                self.loss_history.append(cost)\n",
        "\n",
        "    def class_prob(self, feature):\n",
        "        import numpy as np\n",
        "        return self.sigmoid_activation(np.dot(feature, self.W))\n",
        "\n",
        "    def predict(self, feature, threshold=0.5):\n",
        "        return self.class_prob(feature) >= threshold\n",
        "    \n",
        "    def root_mean_square(self, Y, Pred_Y):\n",
        "        import numpy as np\n",
        "        score = np.sum(np.square(np.array(Y-Pred_Y)))/len(Y)\n",
        "        return score\n",
        "        '''score = np.array(Y -Pred_Y)\n",
        "        score = np.array(score**2)\n",
        "        score = np.sum(score)/len(Y)\n",
        "        return score'''\n",
        "        \n"
      ],
      "execution_count": 0,
      "outputs": []
    },
    {
      "cell_type": "code",
      "metadata": {
        "id": "o4Ad-XlPPmkw",
        "colab_type": "code",
        "colab": {}
      },
      "source": [
        "from sklearn.model_selection import train_test_split\n",
        "label_ = label.reshape(label.shape[0])\n",
        "label_[label_ == -1 ] = 0\n",
        "label_[label_ == 1] = 1\n",
        "x_train, x_test, y_train, y_test = train_test_split(feature, label_)"
      ],
      "execution_count": 0,
      "outputs": []
    },
    {
      "cell_type": "code",
      "metadata": {
        "id": "LlwyyYr7Rn1x",
        "colab_type": "code",
        "colab": {}
      },
      "source": [
        "embed_filter = Embedded_Method()\n",
        "embed_filter.__fit__(x_train, y_train)"
      ],
      "execution_count": 0,
      "outputs": []
    },
    {
      "cell_type": "code",
      "metadata": {
        "id": "XIw8DdpySfD8",
        "colab_type": "code",
        "colab": {}
      },
      "source": [
        "N = [5, 20, 50]\n",
        "from sklearn.linear_model import LogisticRegression\n",
        "from sklearn.metrics import accuracy_score\n",
        "for n in N:\n",
        "    selected_indexes = np.argpartition(embed_filter.W, -n)[n:]\n",
        "    model = LogisticRegression()\n",
        "    new_feature = feature[:, selected_indexes]\n",
        "    x_train, x_test, y_train, y_test = train_test_split(new_feature, label_)\n",
        "    model.fit(x_train, y_train)\n",
        "    prediction = model.predict(x_test)\n",
        "    accuracy = '{}%'.format(np.round(accuracy_score(prediction, y_test) * 100 , 2))\n",
        "    final_matrix.loc['Embedded_Filter(Lasso)', n] = accuracy"
      ],
      "execution_count": 0,
      "outputs": []
    },
    {
      "cell_type": "code",
      "metadata": {
        "id": "IRmCYvZtTbIA",
        "colab_type": "code",
        "outputId": "bc1fc170-721a-414a-8b2f-523d5d8cc76b",
        "colab": {
          "base_uri": "https://localhost:8080/",
          "height": 105
        }
      },
      "source": [
        "print(final_matrix)"
      ],
      "execution_count": 0,
      "outputs": [
        {
          "output_type": "stream",
          "text": [
            "                            5       20      50\n",
            "Wrapper_Filter(SFF)     76.77%  93.94%  100.0%\n",
            "Embedded_Filter(Lasso)   92.0%   84.0%   72.0%\n",
            "Filter(corelation)         NaN     NaN     NaN\n",
            "Filter(FRation)            NaN     NaN     NaN\n"
          ],
          "name": "stdout"
        }
      ]
    },
    {
      "cell_type": "code",
      "metadata": {
        "id": "h9SEmSQiYMvC",
        "colab_type": "code",
        "colab": {}
      },
      "source": [
        "file_feature = 'arcene_train.data'\n",
        "file_label = 'arcene_train.labels'\n",
        "feature_filter = pd.read_csv(file_feature, delim_whitespace=True)\n",
        "label_filter = pd.read_csv(file_label, delim_whitespace=True)"
      ],
      "execution_count": 0,
      "outputs": []
    },
    {
      "cell_type": "code",
      "metadata": {
        "id": "9oqqqEazYTZ_",
        "colab_type": "code",
        "colab": {}
      },
      "source": [
        " #remove any NAN values from Feature\n",
        "feature_filter = feature_filter.dropna(how='any', axis=1)\n",
        "#print(feature.shape)\n",
        "# remove redundant_values(unique values_features appearing only one time)\n",
        "for col in feature_filter.columns:\n",
        "    if len(feature_filter[col].unique()) == 1:\n",
        "        feature_filter.drop(col, inplace=True, axis=1)"
      ],
      "execution_count": 0,
      "outputs": []
    },
    {
      "cell_type": "code",
      "metadata": {
        "id": "82S92bDbYcYH",
        "colab_type": "code",
        "colab": {}
      },
      "source": [
        "feature_filter = np.array(feature_filter)\n",
        "label_filter = np.array(label_filter)"
      ],
      "execution_count": 0,
      "outputs": []
    },
    {
      "cell_type": "code",
      "metadata": {
        "id": "TLA0kRc9T-Qe",
        "colab_type": "code",
        "colab": {}
      },
      "source": [
        "class filter_on_corealtion_2:\n",
        "    def __init__(self, feature, label):\n",
        "        self.X = feature\n",
        "        self.Y = label.T[0]\n",
        "        self.n = len(self.X.T)\n",
        "\n",
        "    def find_covariance(self):\n",
        "        import numpy as np\n",
        "        mean_x = np.expand_dims(np.mean(self.X, axis=0), 1).T\n",
        "        diff_x = self.X - mean_x\n",
        "        mean_y = np.mean(self.Y)\n",
        "        diff_y = self.Y - mean_y\n",
        "        cov = np.sum(diff_x.T * diff_y, axis=1) / (len(self.Y) - 1)\n",
        "        return cov\n",
        "\n",
        "    def pearson_coeff(self):\n",
        "        import numpy as np\n",
        "        covariance = self.find_covariance()\n",
        "        std_deviation_x = np.std(self.X.T, axis=1)\n",
        "        std_deviation_y = np.std(self.Y)\n",
        "        pear_coef = covariance / (std_deviation_x * std_deviation_y)\n",
        "        return pear_coef\n",
        "\n",
        "    def corelation_filter(self, k=20):\n",
        "        import numpy as np\n",
        "        pearson = self.pearson_coeff()\n",
        "        pearson = np.where(np.isnan(pearson), 0, pearson)\n",
        "        selected_index = np.flip(np.argsort(np.absolute(pearson)))[:k]\n",
        "        #selected_feature = np.take()\n",
        "        return selected_index\n",
        "\n",
        "    def selected_feature(self,feature, n):\n",
        "      import numpy as np\n",
        "      sel_index  = self.corelation_filter(n)\n",
        "      sel_feature = np.take(feature.T,sel_index, axis = 0).T\n",
        "      return sel_feature\n",
        "    \n",
        "\n",
        "    \n",
        "\n",
        "\n",
        "\n",
        "\n",
        "\n",
        "\n",
        "\n"
      ],
      "execution_count": 0,
      "outputs": []
    },
    {
      "cell_type": "code",
      "metadata": {
        "id": "JhQXy_GQUeQ7",
        "colab_type": "code",
        "outputId": "57490048-61eb-4b24-eda2-3fa8469b83ae",
        "colab": {
          "base_uri": "https://localhost:8080/",
          "height": 105
        }
      },
      "source": [
        "N = [5, 20, 50]\n",
        "from sklearn.linear_model import LogisticRegression\n",
        "from sklearn.metrics import accuracy_score\n",
        "for n in N:\n",
        "    filter1 = filter_on_corealtion_2(feature_filter, label_filter)\n",
        "    selected_feature = filter1.selected_feature(feature_filter, n=n)\n",
        "    logistic_regression = LogisticRegression()\n",
        "    logistic_regression.fit(selected_feature, label_filter)\n",
        "    prediction = logistic_regression.predict(selected_feature)\n",
        "    accuracy = '{}%'.format(np.round(accuracy_score(label_filter, prediction) * 100 , 2))\n",
        "    final_matrix.loc['Filter(corelation)', n] = accuracy\n",
        "\n",
        "print(final_matrix)"
      ],
      "execution_count": 0,
      "outputs": [
        {
          "output_type": "stream",
          "text": [
            "                            5       20      50\n",
            "Wrapper_Filter(SFF)     76.77%  93.94%  100.0%\n",
            "Embedded_Filter(Lasso)   92.0%   84.0%   72.0%\n",
            "Filter(corelation)       69.7%  90.91%  93.94%\n",
            "Filter(FRation)            NaN     NaN     NaN\n"
          ],
          "name": "stdout"
        }
      ]
    },
    {
      "cell_type": "code",
      "metadata": {
        "id": "3iUrC90lUika",
        "colab_type": "code",
        "colab": {}
      },
      "source": [
        "class FRatio_Filter:\n",
        "\n",
        "    def __init__(self, n = 10):\n",
        "        self.n = n\n",
        "\n",
        "    def calculate_fratio(self, row, target):\n",
        "        import numpy as np\n",
        "        mean_ = np.mean(row)\n",
        "        var_same_class = 0.0\n",
        "        var_diff_class = 0.0\n",
        "        for val in np.unique(target):   # calculates the f_ratio for every row of the feature:\n",
        "            current_index = np.where(target == val)[0]\n",
        "            n = np.sum(row[current_index])\n",
        "            mu = np.mean(row[current_index])\n",
        "            var = np.mean(row[current_index])\n",
        "            var_same_class += n * np.power((mu - mean_),2)\n",
        "            var_diff_class += (n-1) * var\n",
        "        f_ratio = var_same_class/var_diff_class\n",
        "        return f_ratio\n",
        "\n",
        "\n",
        "    def __fit__(self, feature, target):\n",
        "        import numpy as np\n",
        "        self.X = feature\n",
        "        self.Y = target\n",
        "        fratio = []\n",
        "        for i in feature.T:\n",
        "            fratio.append(self.calculate_fratio(i, target.T))\n",
        "        self.fratio = np.array(fratio)\n",
        "        self.selected_index = np.argpartition(self.fratio, -self.n)[-self.n:]\n",
        "\n",
        "        return feature[:, self.selected_index]\n"
      ],
      "execution_count": 0,
      "outputs": []
    },
    {
      "cell_type": "code",
      "metadata": {
        "id": "n0tTFxcvabHW",
        "colab_type": "code",
        "outputId": "57eb9b58-9c45-4a16-e3f1-c6989b3b003c",
        "colab": {
          "base_uri": "https://localhost:8080/",
          "height": 122
        }
      },
      "source": [
        "N = [5, 20, 50]\n",
        "from sklearn.linear_model import LogisticRegression\n",
        "from sklearn.metrics import accuracy_score\n",
        "for n in N:\n",
        "    filter1 = FRatio_Filter(n = n)\n",
        "    selected_feature = filter1.__fit__(feature, label)\n",
        "    logistic_regression = LogisticRegression()\n",
        "    logistic_regression.fit(selected_feature, label)\n",
        "    prediction = logistic_regression.predict(selected_feature)\n",
        "    accuracy = '{}%'.format(np.round(accuracy_score(label, prediction) * 100 , 2))\n",
        "    final_matrix.loc['Filter(FRation)', n] = accuracy\n",
        "\n",
        "print(final_matrix)\n"
      ],
      "execution_count": 0,
      "outputs": [
        {
          "output_type": "stream",
          "text": [
            "                            5       20      50\n",
            "Wrapper_Filter(SFF)     76.77%  93.94%  100.0%\n",
            "Embedded_Filter(Lasso)   92.0%   84.0%   72.0%\n",
            "Filter(corelation)       69.7%  90.91%  93.94%\n",
            "Filter(FRation)          59.6%  78.79%  100.0%\n",
            "Filter(FRatio)           59.6%  78.79%  100.0%\n"
          ],
          "name": "stdout"
        }
      ]
    },
    {
      "cell_type": "code",
      "metadata": {
        "id": "pIdgU4cyafKu",
        "colab_type": "code",
        "colab": {}
      },
      "source": [
        ""
      ],
      "execution_count": 0,
      "outputs": []
    }
  ]
}